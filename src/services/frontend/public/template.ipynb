{
    "cells": [
        {
            "cell_type": "code",
            "execution_count": null,
            "metadata": {},
            "outputs": [],
            "source": [
                "import pandas as pd\n",
                "import numpy as np\n",
                "import sklearn"
            ]
        },
        {
            "cell_type": "code",
            "execution_count": null,
            "metadata": {},
            "outputs": [],
            "source": [
                "def load_data(path: str):\n",
                "    pass\n",
                "\n",
                "\n",
                "def inspect_missing_values(df: pd.DataFrame):\n",
                "    pass\n",
                "\n",
                "\n",
                "DATA_PATH = \"/kaggle/input/data-science-jobs/data_science_job.csv\"\n",
                "\n",
                "df = load_data(DATA_PATH)\n",
                "missing_vals = inspect_missing_values(df)\n",
                "print(\"Missing Value Percentages (unsorted):\")\n",
                "print(missing_vals.head())"
            ]
        },
        {
            "cell_type": "code",
            "execution_count": null,
            "metadata": {},
            "outputs": [],
            "source": [
                "def prepare_and_split_data(\n",
                "    df: pd.DataFrame, feature_col: str, target_col: str, test_size: float = 0.2\n",
                "):\n",
                "    pass\n",
                "\n",
                "\n",
                "FEATURE = \"training_hours\"\n",
                "TARGET = \"target\"\n",
                "\n",
                "X_train, X_test, y_train, y_test = prepare_and_split_data(df, FEATURE, TARGET)\n",
                "\n",
                "print(f\"Shape of X_train: {X_train.shape}\")\n",
                "print(f\"Shape of X_test: {X_test.shape}\")"
            ]
        },
        {
            "cell_type": "code",
            "execution_count": null,
            "metadata": {},
            "outputs": [],
            "source": [
                "def apply_knn_imputation(\n",
                "    X_train: pd.DataFrame, X_test: pd.DataFrame, n_neighbors: int = 5\n",
                "):\n",
                "    pass\n",
                "\n",
                "\n",
                "X_train_imputed, X_test_imputed = apply_knn_imputation(X_train, X_test)\n",
                "print(f\"Missing values after incorrect imputation: {np.isnan(X_test_imputed).sum()}\")"
            ]
        },
        {
            "cell_type": "code",
            "execution_count": null,
            "metadata": {},
            "outputs": [],
            "source": [
                "def train_and_evaluate(\n",
                "    X_train: np.ndarray, y_train: pd.Series, X_test: np.ndarray, y_test: pd.Series\n",
                "):\n",
                "    pass\n",
                "\n",
                "\n",
                "model = train_and_evaluate(X_train_imputed, y_train, X_test_imputed, y_test)"
            ]
        }
    ],
    "metadata": {
        "kernelspec": {
            "display_name": "Python 3",
            "language": "python",
            "name": "python3"
        },
        "language_info": {
            "name": "python",
            "version": "3.10.0"
        }
    },
    "nbformat": 4,
    "nbformat_minor": 2
}
