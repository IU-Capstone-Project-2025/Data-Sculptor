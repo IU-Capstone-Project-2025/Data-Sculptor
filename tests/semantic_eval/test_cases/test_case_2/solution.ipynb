{
    "cells": [
        {
            "cell_type": "markdown",
            "metadata": {},
            "source": [
                "```json\n",
                "{\n",
                "    \"required_ml_terms\": [ \"duplicates deletion\"],\n",
                "    \"problems_to_detect\": [\n",
                "        \"Using last duplicate rows can lead to losing information.\"\n",
                "    ]\n",
                "}\n",
                "```"
            ]
        },
        {
            "cell_type": "code",
            "execution_count": null,
            "metadata": {},
            "outputs": [],
            "source": [
                "from pathlib import Path\n",
                "from typing import List, Tuple\n",
                "import pandas as pd\n",
                "\n",
                "\n",
                "def load_data(data_path: Path) -> Tuple[pd.DataFrame, pd.DataFrame, pd.DataFrame]:\n",
                "    \"\"\"Loads train, test, and submission files.\"\"\"\n",
                "    train = pd.read_csv(data_path / \"train.csv\")\n",
                "    test = pd.read_csv(data_path / \"test.csv\")\n",
                "    sub = pd.read_csv(data_path / \"sample_submission.csv\")\n",
                "    return train, test, sub\n",
                "\n",
                "\n",
                "def clean_and_prepare_data(df: pd.DataFrame) -> pd.DataFrame:\n",
                "    \"\"\"Cleans the dataframe by dropping unnecessary columns, duplicates, and parsing string lists.\"\"\"\n",
                "    if \"id\" in df.columns:\n",
                "        df = df.drop(\"id\", axis=1)\n",
                "\n",
                "    df = df.drop_duplicates(keep=\"last\", ignore_index=True)\n",
                "\n",
                "    for col in [\"prompt\", \"response_a\", \"response_b\"]:\n",
                "        # Handle cases where the column might already be parsed or doesn't exist\n",
                "        if col in df.columns and isinstance(df[col].iloc[0], str):\n",
                "            try:\n",
                "                # A more robust way to handle 'null' before eval\n",
                "                df[col] = df[col].apply(lambda x: eval(x.replace(\"null\", \"None\")))\n",
                "            except Exception as e:\n",
                "                print(f\"Could not parse column {col}. Error: {e}\")\n",
                "                # Fallback for columns that might not need parsing\n",
                "                df[col] = df[col].apply(lambda x: eval(x) if isinstance(x, str) else x)\n",
                "    return df\n",
                "\n",
                "\n",
                "DATA_PATH = Path(\"/kaggle/input/lmsys-chatbot-arena\")\n",
                "TARGETS = [\"winner_model_a\", \"winner_model_b\", \"winner_tie\"]\n",
                "\n",
                "train_df, test_df, sub_df = load_data(DATA_PATH)\n",
                "train_df_cleaned = clean_and_prepare_data(train_df.copy())\n",
                "\n",
                "print(f\"Original train shape: {train_df.shape}\")\n",
                "print(f\"Cleaned train shape: {train_df_cleaned.shape}\")\n",
                "display(train_df_cleaned.head(2))"
            ]
        }
    ],
    "metadata": {
        "kernelspec": {
            "display_name": "Python 3",
            "language": "python",
            "name": "python3"
        },
        "language_info": {
            "name": "python",
            "version": "3.10.0"
        }
    },
    "nbformat": 4,
    "nbformat_minor": 2
}
